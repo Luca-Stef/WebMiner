{
 "cells": [
  {
   "cell_type": "code",
   "execution_count": 1,
   "metadata": {},
   "outputs": [],
   "source": [
    "from bs4 import BeautifulSoup, SoupStrainer\n",
    "import requests\n",
    "import sys\n",
    "import re"
   ]
  },
  {
   "cell_type": "code",
   "execution_count": 44,
   "metadata": {},
   "outputs": [
    {
     "data": {
      "text/plain": [
       "[]"
      ]
     },
     "execution_count": 44,
     "metadata": {},
     "output_type": "execute_result"
    }
   ],
   "source": [
    "response = requests.get(links[0])\n",
    "soup = BeautifulSoup(response.text, 'lxml')\n",
    "pattern = r'\\b[A-Za-z0-9._%+-]+@[A-Za-z0-9.-]+\\.[A-Z|a-z]{2,}\\b'\n",
    "\n",
    "ite = re.finditer(\"mailto\", response.text)\n",
    "indices = [m.start(0) for m in ite]\n",
    "emails = []\n",
    "\n",
    "for i in indices:\n",
    "    emails.append(re.findall(pattern, response.text[i:i+40])[0])\n",
    "\n",
    "emails"
   ]
  },
  {
   "cell_type": "code",
   "execution_count": 38,
   "metadata": {},
   "outputs": [],
   "source": [
    "base = \"https://en.wikipedia.org\"\n",
    "url = \"https://en.wikipedia.org/wiki/List_of_companies_based_in_London\"\n",
    "response = requests.get(url)\n",
    "soup = BeautifulSoup(response.text, 'html.parser')"
   ]
  },
  {
   "cell_type": "code",
   "execution_count": 39,
   "metadata": {},
   "outputs": [],
   "source": [
    "hrefs = []\n",
    "for tag in soup.find('h3').findNextSiblings():\n",
    "    if tag.name == \"h3\":\n",
    "        continue\n",
    "    [hrefs.append(subtag[\"href\"]) for subtag in tag.find_all(\"a\")]"
   ]
  },
  {
   "cell_type": "code",
   "execution_count": 40,
   "metadata": {},
   "outputs": [],
   "source": [
    "links = []\n",
    "web_addr_regex = r\"[(http(s)?):\\/\\/(www\\.)?a-zA-Z0-9@:%._\\+~#=]{2,256}\\.[a-z]{2,6}\\b([-a-zA-Z0-9@:%_\\+.~#?&//=]*)\"\n",
    "links = []\n",
    "for href in hrefs:\n",
    "    subresponse = requests.get(base + href)\n",
    "    subsoup = BeautifulSoup(subresponse.text, 'html.parser')\n",
    "    for tr in subsoup.find_all(\"tr\"):\n",
    "        if not tr.find(\"th\") == None: \n",
    "            if not len(tr.find(\"th\").contents) == 0:\n",
    "                if tr.find(\"th\").contents[0] == \"Website\":\n",
    "                    if len(tr.find_all('a', {'href': re.compile(web_addr_regex)})) > 0:\n",
    "                        links.append(tr.find_all('a', {'href': re.compile(web_addr_regex)})[0][\"href\"])"
   ]
  },
  {
   "cell_type": "code",
   "execution_count": 43,
   "metadata": {},
   "outputs": [
    {
     "data": {
      "text/plain": [
       "'http://www.accidentadvicehelpline.co.uk/'"
      ]
     },
     "execution_count": 43,
     "metadata": {},
     "output_type": "execute_result"
    }
   ],
   "source": [
    "links[0]"
   ]
  }
 ],
 "metadata": {
  "kernelspec": {
   "display_name": "Python 3.8.5 ('base')",
   "language": "python",
   "name": "python3"
  },
  "language_info": {
   "codemirror_mode": {
    "name": "ipython",
    "version": 3
   },
   "file_extension": ".py",
   "mimetype": "text/x-python",
   "name": "python",
   "nbconvert_exporter": "python",
   "pygments_lexer": "ipython3",
   "version": "3.10.4"
  },
  "orig_nbformat": 4,
  "vscode": {
   "interpreter": {
    "hash": "c99ec3b06bb2b7a9ce1cfef1038d6bd1f5e5eb8cf3fb3cc6612960f8106f6dac"
   }
  }
 },
 "nbformat": 4,
 "nbformat_minor": 2
}
